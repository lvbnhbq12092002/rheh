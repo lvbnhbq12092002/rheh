{
  "nbformat": 4,
  "nbformat_minor": 0,
  "metadata": {
    "colab": {
      "name": "02prac.ipynb",
      "provenance": [],
      "collapsed_sections": [
        "1b7sv7KFNENj",
        "YSH32DVOQXe2",
        "KZyL7ZRKKNAC"
      ],
      "include_colab_link": true
    },
    "kernelspec": {
      "name": "python3",
      "display_name": "Python 3"
    },
    "language_info": {
      "name": "python"
    }
  },
  "cells": [
    {
      "cell_type": "markdown",
      "metadata": {
        "id": "view-in-github",
        "colab_type": "text"
      },
      "source": [
        "<a href=\"https://colab.research.google.com/github/lvbnhbq12092002/rheh/blob/main/02prac.ipynb\" target=\"_parent\"><img src=\"https://colab.research.google.com/assets/colab-badge.svg\" alt=\"Open In Colab\"/></a>"
      ]
    },
    {
      "cell_type": "markdown",
      "metadata": {
        "id": "1b7sv7KFNENj"
      },
      "source": [
        "## Задание 1. Аналитическое (выполняется в тетради)"
      ]
    },
    {
      "cell_type": "markdown",
      "metadata": {
        "id": "pDEsQGsFQBVx"
      },
      "source": [
        "###1.1 Решите задачу Коши для ДУ с разделяющимися переменными:"
      ]
    },
    {
      "cell_type": "markdown",
      "metadata": {
        "id": "LyL3HsPhOZXa"
      },
      "source": [
        "1. $y'=2x^2y^2$, $y(1)=1$ \n",
        "2. $y'=-x^3y^2$, $y(1)=2$ \n",
        "3. $y'=3xy^2$, $y(1)=3$ \n",
        "4. $y'=4y^2/x^2$, $y(1)=1$ \n",
        "5. $y'=-4xy^2$, $y(1)=2$ \n",
        "6. $y'=-3\\sqrt{x}y^2$, $y(1)=3$ \n",
        "7. $y'=-y^2/\\sqrt{x}$, $y(1)=4$ \n",
        "8. $y'=-\\sqrt{x^3}y^2$, $y(1)=4$ \n",
        "9. $y'=y^2/x^3$, $y(1)=2$ \n",
        "10. $y'=5\\sqrt[3]{x}y^2$, $y(1)=2$ \n",
        "11. $y'=4x^4y^2$, $y(1)=1$ \n",
        "12. $y'=-\\sqrt[4]{x}y^2$, $y(1)=5$ "
      ]
    },
    {
      "cell_type": "markdown",
      "metadata": {
        "id": "nDuH9MPLP7vS"
      },
      "source": [
        "###1.2 Решите дифференциальное уравнение с разделяющимися переменными:"
      ]
    },
    {
      "cell_type": "markdown",
      "metadata": {
        "id": "DXczJq1pOwjy"
      },
      "source": [
        "1. $(x^2+2)y^2dy=-xdx$\n",
        "2. $(x-2)(3y-4)dy=(-3x+1)(y-3)dx$\n",
        "3. $(2x-1)(y-2)dx=(x-2)(3y+1)dy$\n",
        "4. $(2x-3)(y^2+3)dx=2y^2dy$\n",
        "5. $(x^2-1)yy'=(x^2-3)(2y-1)$ \n",
        "6. $(3x-2)y'=-3x(3y-1)$\n",
        "7. $(x+1)(y+1)y'=(x^2+1)y$\n",
        "8. $2xdy=(x^2-1)(y^2+3)dx$\n",
        "9. $2xdy=(x^2-1)(y^2+3)dx$\n",
        "10. $3(-3y+4)y'=(-2x+3)(2y-3)$\n",
        "11. $x^2ydx=(x^2-2)dy$\n",
        "12. $x(y^2-3)dx=-3x(y^2-1)dy$\n"
      ]
    },
    {
      "cell_type": "markdown",
      "metadata": {
        "id": "_s45SxSdQJZ8"
      },
      "source": [
        "###1.3 Решите начальную задачу для простейшего ДУ с параметром $a$:"
      ]
    },
    {
      "cell_type": "markdown",
      "metadata": {
        "id": "JgYeq7ubPHp7"
      },
      "source": [
        "1. $y'=ax$, $y(1)=0$ \n",
        "2. $y'=ax^2$, $y(-1)=1$ \n",
        "3. $y'=1-ax$, $y(2)=0$ \n",
        "4. $y'=x^2-ax$, $y(-2)=0$ \n",
        "5. $y'=x+ax^2$, $y(1)=-1$ \n",
        "6. $y'=a+x$, $y(-1)=1$ \n",
        "7. $y'=a+x^2$, $y(3)=2$ \n",
        "8. $y'=1+ax-x^2$, $y(-3)=0$ \n",
        "9. $y'=(x-a)^2$, $y(1)=0$ \n",
        "10. $y'=a^2-ax$, $y(-1)=1$ \n",
        "11. $y'=a-a^2x$, $y(2)=2$ \n",
        "12. $y'=a+x+ax^2$, $y(-2)=0$\n"
      ]
    },
    {
      "cell_type": "markdown",
      "metadata": {
        "id": "YSH32DVOQXe2"
      },
      "source": [
        "##Задание 2. Решение дифференциальных уравнений в SymPy"
      ]
    },
    {
      "cell_type": "markdown",
      "metadata": {
        "id": "qaChxr3ZB2vR"
      },
      "source": [
        "###Пример оформления решения"
      ]
    },
    {
      "cell_type": "markdown",
      "metadata": {
        "id": "dSRCjH20bt-8"
      },
      "source": [
        "Подключаем пакеты Python."
      ]
    },
    {
      "cell_type": "code",
      "metadata": {
        "id": "YNgxSjRUM-8k"
      },
      "source": [
        "from sympy import * # пакет символьных вычислений\n",
        "import numpy as np # пакет для работы с многомерными массивами"
      ],
      "execution_count": 1,
      "outputs": []
    },
    {
      "cell_type": "markdown",
      "metadata": {
        "id": "FqQM3dMuCVqL"
      },
      "source": [
        "Создаем символы (переменные)."
      ]
    },
    {
      "cell_type": "code",
      "metadata": {
        "id": "vJhoH3KdCUO8"
      },
      "source": [
        "x, C1 = symbols(\"x C1\")"
      ],
      "execution_count": 2,
      "outputs": []
    },
    {
      "cell_type": "markdown",
      "metadata": {
        "id": "AAt_m1RFUCeg"
      },
      "source": [
        "Для решения дифференциальных уравнений в SymPy для неизвестной функции нужно создать свою собственную переменную с помощью команды Function (аналогично созданию простой переменной)."
      ]
    },
    {
      "cell_type": "code",
      "metadata": {
        "colab": {
          "base_uri": "https://localhost:8080/",
          "height": 38
        },
        "id": "EQ5B434uUSwA",
        "outputId": "6e59a360-2f3d-4e26-a796-9d1bb675d6bc"
      },
      "source": [
        "y = Function('y')\n",
        "y(x)"
      ],
      "execution_count": 3,
      "outputs": [
        {
          "output_type": "execute_result",
          "data": {
            "text/latex": "$\\displaystyle y{\\left(x \\right)}$",
            "text/plain": [
              "y(x)"
            ]
          },
          "metadata": {},
          "execution_count": 3
        }
      ]
    },
    {
      "cell_type": "markdown",
      "metadata": {
        "id": "CpNqX45TUYMc"
      },
      "source": [
        "Удобно сразу создать специальную переменную, обозначающую производную неизвестной функции по заданной переменной."
      ]
    },
    {
      "cell_type": "code",
      "metadata": {
        "colab": {
          "base_uri": "https://localhost:8080/",
          "height": 52
        },
        "id": "hJBnYVC6UhuL",
        "outputId": "4f899528-cb5e-4093-a739-182061a8490c"
      },
      "source": [
        "y_ = Derivative(y(x), x)\n",
        "y_"
      ],
      "execution_count": 4,
      "outputs": [
        {
          "output_type": "execute_result",
          "data": {
            "text/latex": "$\\displaystyle \\frac{d}{d x} y{\\left(x \\right)}$",
            "text/plain": [
              "Derivative(y(x), x)"
            ]
          },
          "metadata": {},
          "execution_count": 4
        }
      ]
    },
    {
      "cell_type": "markdown",
      "metadata": {
        "id": "aglfGYoYU71-"
      },
      "source": [
        "Создаем дифференциальное уравнение $$xdy=(x+1)ydx.$$ Вручную надо поделить обе части на $dx$ и заменить $dy/dx$ на $y'$: $$xy'=(x+1)y.$$ При создании ДУ в SymPy неизвестную функцию надо указывать вместе с переменной: $y(x)$."
      ]
    },
    {
      "cell_type": "code",
      "metadata": {
        "colab": {
          "base_uri": "https://localhost:8080/",
          "height": 54
        },
        "id": "Mh7zMR59VCnc",
        "outputId": "87b47dfb-357b-4343-fe90-a72fa9119030"
      },
      "source": [
        "eq = Eq(y_, (y(x))**2 / x**3)\n",
        "eq"
      ],
      "execution_count": 51,
      "outputs": [
        {
          "output_type": "execute_result",
          "data": {
            "text/latex": "$\\displaystyle \\frac{d}{d x} y{\\left(x \\right)} = \\frac{y^{2}{\\left(x \\right)}}{x^{3}}$",
            "text/plain": [
              "Eq(Derivative(y(x), x), y(x)**2/x**3)"
            ]
          },
          "metadata": {},
          "execution_count": 51
        }
      ]
    },
    {
      "cell_type": "markdown",
      "metadata": {
        "id": "gl8QksdAVzCX"
      },
      "source": [
        "Дифференциальные уравнения решаются с помощью команды dsolve. Если не указывать начальные условия, то команда выдает общее решение ДУ."
      ]
    },
    {
      "cell_type": "code",
      "metadata": {
        "colab": {
          "base_uri": "https://localhost:8080/",
          "height": 56
        },
        "id": "h0s3WlT2WD0_",
        "outputId": "f4969d20-45da-4777-e405-637fa01a7d2b"
      },
      "source": [
        "sol = dsolve(eq)\n",
        "sol"
      ],
      "execution_count": 52,
      "outputs": [
        {
          "output_type": "execute_result",
          "data": {
            "text/latex": "$\\displaystyle y{\\left(x \\right)} = - \\frac{2 x^{2}}{C_{1} x^{2} - 1}$",
            "text/plain": [
              "Eq(y(x), -2*x**2/(C1*x**2 - 1))"
            ]
          },
          "metadata": {},
          "execution_count": 52
        }
      ]
    },
    {
      "cell_type": "markdown",
      "metadata": {
        "id": "SllaRjaSXs8f"
      },
      "source": [
        "Чтобы решить начальную задачу (задачу Коши) с начальным условием $y(x_0)=y_0$, надо в команде dsolve указать опциональный параметр ics = {y(x0): x0}. \n",
        "\n",
        "Решим наше ДУ с начальным условием $y(1/2)=2$. \n",
        "\n",
        "Рациональные числа в SymPy задаются командой Rational(n, m)."
      ]
    },
    {
      "cell_type": "code",
      "metadata": {
        "colab": {
          "base_uri": "https://localhost:8080/",
          "height": 38
        },
        "id": "hyjVwpmyX63A",
        "outputId": "fcf72365-92d7-4300-cd5f-a65f0383a3fb"
      },
      "source": [
        "x0 = 1\n",
        "y0 = 2\n",
        "sol1 = dsolve(eq, ics={y(x0): y0})\n",
        "sol1"
      ],
      "execution_count": 53,
      "outputs": [
        {
          "output_type": "execute_result",
          "data": {
            "text/latex": "$\\displaystyle y{\\left(x \\right)} = 2 x^{2}$",
            "text/plain": [
              "Eq(y(x), 2*x**2)"
            ]
          },
          "metadata": {},
          "execution_count": 53
        }
      ]
    },
    {
      "cell_type": "markdown",
      "metadata": {
        "id": "UXwswpmuYobm"
      },
      "source": [
        "Построим семейство интегральных кривых общего решения и решение начальной задачи на одном графике. \n",
        "\n",
        "Для извлечения собственно функции из выражения вида $y(x)=x^2$ надо использовать атрибут rhs (right hand side, и это не метод - скобки не нужны!). \n",
        "\n",
        "Для выделения графика цветом нужно задать цвет опциональным параметром line_color."
      ]
    },
    {
      "cell_type": "code",
      "metadata": {
        "colab": {
          "base_uri": "https://localhost:8080/",
          "height": 297
        },
        "id": "6mn7SqKOY0Jf",
        "outputId": "d5d4de79-008b-4f75-9fd9-5041d31db93b"
      },
      "source": [
        "p = plot(show=False) # создаем пустой график\n",
        "for c in np.arange(-5, 5, 0.2): # цикл по значениям константы C1 - семейство интегральных кривых\n",
        "  f = sol.subs(C1, c).rhs # подставляем c вместо C1 и запоминаем в f правую часть\n",
        "  p.extend(plot(f, (x, -1, 1), line_color=\"gray\", show=False))\n",
        "p.extend(plot(sol1.rhs, (x, -1, 1), line_color=\"red\", show=False)) # решение начальной задачи\n",
        "p.show()"
      ],
      "execution_count": null,
      "outputs": [
        {
          "output_type": "display_data",
          "data": {
            "image/png": "[encoded data removed]",
            "text/plain": [
              "<Figure size 432x288 with 1 Axes>"
            ]
          },
          "metadata": {
            "needs_background": "light"
          }
        }
      ]
    },
    {
      "cell_type": "markdown",
      "metadata": {
        "id": "1EQETuh0WynL"
      },
      "source": [
        "SymPy всегда старается решить ДУ в явной форме. В некоторых случаях это или невозможно, или сильно усложняет ответ (например, получается несколько решений из-за операции извлечения квадратного корня). Чтобы решить ДУ в неявной форме надо в команде dsolve указать опцию simplify=False. "
      ]
    },
    {
      "cell_type": "code",
      "metadata": {
        "colab": {
          "base_uri": "https://localhost:8080/"
        },
        "id": "odqH6I8rcnVl",
        "outputId": "9cd005e7-cbf5-452e-e4f2-44a75b850805"
      },
      "source": [
        "eq = Eq(y(x) * y_, x + 1)\n",
        "sol = dsolve(eq) # решение в явной форме => список из двух решений\n",
        "sol "
      ],
      "execution_count": 13,
      "outputs": [
        {
          "output_type": "execute_result",
          "data": {
            "text/plain": [
              "[Eq(y(x), -sqrt(C1 + x**2 + 2*x)), Eq(y(x), sqrt(C1 + x**2 + 2*x))]"
            ]
          },
          "metadata": {},
          "execution_count": 13
        }
      ]
    },
    {
      "cell_type": "code",
      "metadata": {
        "colab": {
          "base_uri": "https://localhost:8080/",
          "height": 58
        },
        "id": "ugAmAPpIc-N2",
        "outputId": "ff306831-afaf-4926-a302-c17e2e8968ee"
      },
      "source": [
        "sol = dsolve(eq, simplify=False) # решение в неявной форме => одно выражение\n",
        "sol"
      ],
      "execution_count": 19,
      "outputs": [
        {
          "output_type": "execute_result",
          "data": {
            "text/latex": "$\\displaystyle - \\frac{1}{y{\\left(x \\right)}} = C_{1} + \\frac{2 x^{3}}{3}$",
            "text/plain": [
              "Eq(-1/y(x), C1 + 2*x**3/3)"
            ]
          },
          "metadata": {},
          "execution_count": 19
        }
      ]
    },
    {
      "cell_type": "markdown",
      "metadata": {
        "id": "Psi2JikHdMYW"
      },
      "source": [
        "График неявной функции (как в последнем примере) в SymPy строится командой plot_implicit(eq). Но, для этого выражение eq должно содержать две переменные, а не переменную и функцию, как у нас. Поэтому, предварительно надо заменить в найденном решении функцию y(x) на переменную с тем же именем.  "
      ]
    },
    {
      "cell_type": "code",
      "metadata": {
        "colab": {
          "base_uri": "https://localhost:8080/",
          "height": 38
        },
        "id": "ePrZ4xb2doox",
        "outputId": "c9b1983a-dc1d-44f7-821f-b59f964c36cc"
      },
      "source": [
        "Y = symbols(\"y\") # создали новую переменную, которая на печати будет выглядеть, как и имя нашей функции\n",
        "Y"
      ],
      "execution_count": 17,
      "outputs": [
        {
          "output_type": "execute_result",
          "data": {
            "text/latex": "$\\displaystyle y$",
            "text/plain": [
              "y"
            ]
          },
          "metadata": {},
          "execution_count": 17
        }
      ]
    },
    {
      "cell_type": "code",
      "metadata": {
        "colab": {
          "base_uri": "https://localhost:8080/",
          "height": 54
        },
        "id": "FQ_4tmwtd1Mh",
        "outputId": "9e7ecf21-7da7-4c47-f9c5-30dc9dd4ed56"
      },
      "source": [
        "sol1 = sol.subs(y(x), Y) # заменяем y(x) на y\n",
        "sol1"
      ],
      "execution_count": 18,
      "outputs": [
        {
          "output_type": "execute_result",
          "data": {
            "text/latex": "$\\displaystyle y = - \\frac{3}{C_{1} + 2 x^{3}}$",
            "text/plain": [
              "Eq(y, -3/(C1 + 2*x**3))"
            ]
          },
          "metadata": {},
          "execution_count": 18
        }
      ]
    },
    {
      "cell_type": "code",
      "metadata": {
        "colab": {
          "base_uri": "https://localhost:8080/",
          "height": 297
        },
        "id": "OCyI2Htqd9My",
        "outputId": "dc0bbe65-9819-4094-9674-da4928bb9f69"
      },
      "source": [
        "sol2 = sol1.subs(C1, 1) # заменили C1 на 1, получили частное решение\n",
        "p = plot_implicit(sol2, (x, -2, 2), (Y, -2, 2)) # вместо y указываем Y (имя переменной в Python!)"
      ],
      "execution_count": null,
      "outputs": [
        {
          "output_type": "display_data",
          "data": {
            "image/png": "[encoded data removed]",
            "text/plain": [
              "<Figure size 432x288 with 1 Axes>"
            ]
          },
          "metadata": {
            "tags": [],
            "needs_background": "light"
          }
        }
      ]
    },
    {
      "cell_type": "markdown",
      "metadata": {
        "id": "1AlpWjURerlK"
      },
      "source": [
        "Построим семейство кривых общего решения."
      ]
    },
    {
      "cell_type": "code",
      "metadata": {
        "colab": {
          "base_uri": "https://localhost:8080/",
          "height": 297
        },
        "id": "ohFSk3Wxepxn",
        "outputId": "39445f16-99f3-4ad0-d215-bb2f10c850b1"
      },
      "source": [
        "p = plot(show=False) # пустой график\n",
        "for c in np.arange(-2, 2, 0.2): # цикл по константе C1\n",
        "  p1 = plot_implicit(sol1.subs(C1, c), (x, -2, 2), (Y, -2, 2), show=False) # неявный график новой кривой\n",
        "  p.extend(p1) \n",
        "p.show()"
      ],
      "execution_count": null,
      "outputs": [
        {
          "output_type": "display_data",
          "data": {
            "image/png": "[encoded data removed]",
            "text/plain": [
              "<Figure size 432x288 with 1 Axes>"
            ]
          },
          "metadata": {
            "tags": [],
            "needs_background": "light"
          }
        }
      ]
    },
    {
      "cell_type": "markdown",
      "metadata": {
        "id": "FppRbfguJNBS"
      },
      "source": [
        "### Задание в SymPy\n"
      ]
    },
    {
      "cell_type": "code",
      "metadata": {
        "id": "1SLUNIbcJ-ve"
      },
      "source": [
        "\n",
        "\n"
      ],
      "execution_count": null,
      "outputs": []
    },
    {
      "cell_type": "markdown",
      "metadata": {
        "id": "yxEaFXq-KZjY"
      },
      "source": [
        "1. Найдите общее решение ДУ и решение начальной задачи из упражнения 1 аналитической части, постройте на одном графике семейство интегральных кривых общего решения и (другим цветом) решение начальной задачи:"
      ]
    },
    {
      "cell_type": "code",
      "metadata": {
        "id": "_Xm9kVNRGYhI"
      },
      "source": [
        "'''\n",
        "1) y=-3/(-7/2+2x^3)\n",
        "2) y=4/(x^4+1)\n",
        "3) y=-2/(3x^2-11/3)\n",
        "4) y=x\n",
        "5) y=1/(2x^2-3/2)\n",
        "6) y=1/(2x^2-5/3)\n",
        "7) y=-1/(5/3-2*x^1/2)\n",
        "8) y=5/(2x*x^3/2-3/4)\n",
        "9) y=2x^2\n",
        "'''\n",
        "​\n"
      ],
      "execution_count": null,
      "outputs": []
    },
    {
      "cell_type": "markdown",
      "metadata": {
        "id": "VPXBZOeGGUos"
      },
      "source": [
        "\n"
      ]
    },
    {
      "cell_type": "markdown",
      "metadata": {
        "id": "ockXN1vcGR1M"
      },
      "source": [
        ""
      ]
    },
    {
      "cell_type": "markdown",
      "metadata": {
        "id": "WiEsYc27KJce"
      },
      "source": [
        "2. Решите в *неявной форме* дифференциальное уравнение из упражнения 2 аналитической части, постройте семейство интегральных кривых в неявной форме для разных значений константы $C$: "
      ]
    },
    {
      "cell_type": "code",
      "metadata": {
        "id": "VSGetY-IJcFJ"
      },
      "source": [
        ""
      ],
      "execution_count": null,
      "outputs": []
    },
    {
      "cell_type": "markdown",
      "metadata": {
        "id": "ptRR45jqLW3C"
      },
      "source": [
        "3. Решите начальную задачу из упражнения 3 аналитической части, постройте семейство интегральных кривых для разных значений параметра $a$:"
      ]
    },
    {
      "cell_type": "code",
      "metadata": {
        "id": "Xo_2AL4Zc03I"
      },
      "source": [
        ""
      ],
      "execution_count": null,
      "outputs": []
    },
    {
      "cell_type": "markdown",
      "metadata": {
        "id": "KZyL7ZRKKNAC"
      },
      "source": [
        "## Задание 3. Водяные часы"
      ]
    },
    {
      "cell_type": "markdown",
      "metadata": {
        "id": "XwI_neA8WieU"
      },
      "source": [
        "Рассматривается модель вытекания жидкости из сосуда, имеющего форму усеченного конуса высоты $H$ с радиусами нижнего и верхнего оснований $a$ и $b$.\n",
        "\n",
        "![](https://drive.google.com/uc?export=view&id=1S8HCDWCtEIpXlbap037HiAlKaj-n19wD)\n",
        "\n",
        "\n",
        "\n",
        "\n",
        "\n"
      ]
    },
    {
      "cell_type": "markdown",
      "metadata": {
        "id": "oLSQOZfqW4f0"
      },
      "source": [
        "Определяем символы $t$ - время; $a$, $b$, $H$ - размеры сосуда; $r$ - радиус сечения; $\\sigma$ - площадь отверстия; $g$ - ускорение свободного падения."
      ]
    },
    {
      "cell_type": "code",
      "metadata": {
        "id": "b2lK4HYzXTxJ"
      },
      "source": [
        "t, a, b, H, r, sigma, g = "
      ],
      "execution_count": null,
      "outputs": []
    },
    {
      "cell_type": "markdown",
      "metadata": {
        "id": "7NY6qTAOXopl"
      },
      "source": [
        "Определяем функцию $h(t)$ и ее производную $dh/dt$."
      ]
    },
    {
      "cell_type": "code",
      "metadata": {
        "id": "HX8EC4HDXfh_"
      },
      "source": [
        "h = \n",
        "h_ = "
      ],
      "execution_count": null,
      "outputs": []
    },
    {
      "cell_type": "markdown",
      "metadata": {
        "id": "WsBQZmHfYS91"
      },
      "source": [
        "Строим соотношение, связывающее радиус $r$ сечения сосуда с его высотой $h(t)$ - уравнение прямой, проходящей через две заданные точки $(a, 0)$ и $(b, H)$. "
      ]
    },
    {
      "cell_type": "code",
      "metadata": {
        "id": "FUZLjRbzX5ep"
      },
      "source": [
        "eq = \n",
        "eq # показываем полученное соотношение"
      ],
      "execution_count": null,
      "outputs": []
    },
    {
      "cell_type": "markdown",
      "metadata": {
        "id": "O3O-76oIY7gu"
      },
      "source": [
        "Выражаем из этого соотношения $r$ через $h(t)$."
      ]
    },
    {
      "cell_type": "code",
      "metadata": {
        "id": "YXNXkl1yY5M9"
      },
      "source": [
        "r = \n",
        "r # показываем найденную зависимость"
      ],
      "execution_count": null,
      "outputs": []
    },
    {
      "cell_type": "markdown",
      "metadata": {
        "id": "qTFaQYA1aPDT"
      },
      "source": [
        "Находим площадь сечения $S$ на высоте $h(t)$."
      ]
    },
    {
      "cell_type": "code",
      "metadata": {
        "id": "r1jNm_hyalv5"
      },
      "source": [
        "S = \n",
        "S # показываем полученное выражение"
      ],
      "execution_count": null,
      "outputs": []
    },
    {
      "cell_type": "markdown",
      "metadata": {
        "id": "8oyh2tw_cWzv"
      },
      "source": [
        "Составляем дифференциальное уравнение $$S(h(t))\\frac{dh(t)}{dt}=-\\sigma\\sqrt{2gh(t)}.$$"
      ]
    },
    {
      "cell_type": "code",
      "metadata": {
        "id": "TGt0hTAvaNJa"
      },
      "source": [
        "de = \n",
        "de # показываем ДУ"
      ],
      "execution_count": null,
      "outputs": []
    },
    {
      "cell_type": "markdown",
      "metadata": {
        "id": "D1D0c-pic5cl"
      },
      "source": [
        "Определяем начальное условие $h(0)=H$."
      ]
    },
    {
      "cell_type": "code",
      "metadata": {
        "id": "1yrfLu68c9Qu"
      },
      "source": [
        "ic = \n",
        "ic "
      ],
      "execution_count": null,
      "outputs": []
    },
    {
      "cell_type": "markdown",
      "metadata": {
        "id": "DekPYZZaca9L"
      },
      "source": [
        "Решаем построенную начальную задачу в неявной форме."
      ]
    },
    {
      "cell_type": "code",
      "metadata": {
        "id": "-XKjwvrjbWNf"
      },
      "source": [
        "sol = \n",
        "sol # показываем найденное решение"
      ],
      "execution_count": null,
      "outputs": []
    },
    {
      "cell_type": "markdown",
      "metadata": {
        "id": "Lz9W1dBXdkWo"
      },
      "source": [
        "Подставляем в найденное решение числовые значения всех параметров: $\\sigma=0.01$, $g=9.8$, размеры сосуда ($a$, $b$ и $H$):\n",
        "\n",
        "\n",
        "1. $H=2$, $a=2$, $b=1$ \n",
        "2. $H=4$, $a=3$, $b=1$\n",
        "3. $H=1$, $a=4$, $b=1$\n",
        "4. $H=2$, $a=4$, $b=2$\n",
        "5. $H=5$, $a=3$, $b=1$\n",
        "6. $H=3$, $a=2$, $b=1$ \n",
        "7. $H=4$, $a=3$, $b=2$ \n",
        "8. $H=4$, $a=5$, $b=1$\n",
        "9. $H=2$, $a=4$, $b=3$\n",
        "10. $H=1$, $a=5$, $b=4$\n",
        "11. $H=2$, $a=3$, $b=1$\n",
        "12. $H=3$, $a=3$, $b=2$\n"
      ]
    },
    {
      "cell_type": "code",
      "metadata": {
        "id": "uHuMUnMwbtpr"
      },
      "source": [
        "my_sol = \n",
        "my_sol # показываем полученное решение"
      ],
      "execution_count": null,
      "outputs": []
    },
    {
      "cell_type": "markdown",
      "metadata": {
        "id": "SHKDlhm9eKxk"
      },
      "source": [
        "Находим момент времени $T$ полного опустошения сосуда, подставляя в найденное решение $h(t)=0$ и решая полученное соотношение относительно $t$."
      ]
    },
    {
      "cell_type": "code",
      "metadata": {
        "id": "AyMcTAe3diB0"
      },
      "source": [
        "T = \n",
        "T # показываем найденное время"
      ],
      "execution_count": null,
      "outputs": []
    },
    {
      "cell_type": "markdown",
      "metadata": {
        "id": "Tjq3ucfHeTaz"
      },
      "source": [
        "Строим график изменения высоты от времени (в неявной форме) в пределах $t\\in[0, T]$, $h\\in[0, H]$. Для этого надо заменить в решении функцию $h(t)$ на символ $h$ (см. пример с графиком неявной функции выше)."
      ]
    },
    {
      "cell_type": "code",
      "metadata": {
        "id": "VrBblz4yeRFa"
      },
      "source": [
        ""
      ],
      "execution_count": null,
      "outputs": []
    }
  ]
}